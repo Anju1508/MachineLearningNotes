{
 "cells": [
  {
   "cell_type": "code",
   "execution_count": 17,
   "id": "80c6f2bd-b287-4d3d-9ff7-560582858543",
   "metadata": {},
   "outputs": [],
   "source": [
    "import seaborn as sns\n",
    "import matplotlib.pyplot as plt\n",
    "import warnings\n",
    "warnings.filterwarnings(\"ignore\")"
   ]
  },
  {
   "cell_type": "code",
   "execution_count": 18,
   "id": "2f403689-5ff3-4261-92a6-47345de54ef9",
   "metadata": {},
   "outputs": [],
   "source": [
    "data = sns.load_dataset(\"iris\")"
   ]
  },
  {
   "cell_type": "code",
   "execution_count": 21,
   "id": "5118d577-c70c-46af-bbc2-77971ea0a53a",
   "metadata": {},
   "outputs": [],
   "source": [
    "datac = data.copy()"
   ]
  },
  {
   "cell_type": "code",
   "execution_count": 23,
   "id": "03c575c5-a8b0-4173-8049-78f75bd69bd2",
   "metadata": {},
   "outputs": [
    {
     "data": {
      "text/html": [
       "<div>\n",
       "<style scoped>\n",
       "    .dataframe tbody tr th:only-of-type {\n",
       "        vertical-align: middle;\n",
       "    }\n",
       "\n",
       "    .dataframe tbody tr th {\n",
       "        vertical-align: top;\n",
       "    }\n",
       "\n",
       "    .dataframe thead th {\n",
       "        text-align: right;\n",
       "    }\n",
       "</style>\n",
       "<table border=\"1\" class=\"dataframe\">\n",
       "  <thead>\n",
       "    <tr style=\"text-align: right;\">\n",
       "      <th></th>\n",
       "      <th>sepal_length</th>\n",
       "      <th>sepal_width</th>\n",
       "      <th>petal_length</th>\n",
       "      <th>petal_width</th>\n",
       "      <th>species</th>\n",
       "    </tr>\n",
       "  </thead>\n",
       "  <tbody>\n",
       "    <tr>\n",
       "      <th>0</th>\n",
       "      <td>5.1</td>\n",
       "      <td>3.5</td>\n",
       "      <td>1.4</td>\n",
       "      <td>0.2</td>\n",
       "      <td>setosa</td>\n",
       "    </tr>\n",
       "    <tr>\n",
       "      <th>1</th>\n",
       "      <td>4.9</td>\n",
       "      <td>3.0</td>\n",
       "      <td>1.4</td>\n",
       "      <td>0.2</td>\n",
       "      <td>setosa</td>\n",
       "    </tr>\n",
       "    <tr>\n",
       "      <th>2</th>\n",
       "      <td>4.7</td>\n",
       "      <td>3.2</td>\n",
       "      <td>1.3</td>\n",
       "      <td>0.2</td>\n",
       "      <td>setosa</td>\n",
       "    </tr>\n",
       "    <tr>\n",
       "      <th>3</th>\n",
       "      <td>4.6</td>\n",
       "      <td>3.1</td>\n",
       "      <td>1.5</td>\n",
       "      <td>0.2</td>\n",
       "      <td>setosa</td>\n",
       "    </tr>\n",
       "    <tr>\n",
       "      <th>4</th>\n",
       "      <td>5.0</td>\n",
       "      <td>3.6</td>\n",
       "      <td>1.4</td>\n",
       "      <td>0.2</td>\n",
       "      <td>setosa</td>\n",
       "    </tr>\n",
       "    <tr>\n",
       "      <th>...</th>\n",
       "      <td>...</td>\n",
       "      <td>...</td>\n",
       "      <td>...</td>\n",
       "      <td>...</td>\n",
       "      <td>...</td>\n",
       "    </tr>\n",
       "    <tr>\n",
       "      <th>145</th>\n",
       "      <td>6.7</td>\n",
       "      <td>3.0</td>\n",
       "      <td>5.2</td>\n",
       "      <td>2.3</td>\n",
       "      <td>virginica</td>\n",
       "    </tr>\n",
       "    <tr>\n",
       "      <th>146</th>\n",
       "      <td>6.3</td>\n",
       "      <td>2.5</td>\n",
       "      <td>5.0</td>\n",
       "      <td>1.9</td>\n",
       "      <td>virginica</td>\n",
       "    </tr>\n",
       "    <tr>\n",
       "      <th>147</th>\n",
       "      <td>6.5</td>\n",
       "      <td>3.0</td>\n",
       "      <td>5.2</td>\n",
       "      <td>2.0</td>\n",
       "      <td>virginica</td>\n",
       "    </tr>\n",
       "    <tr>\n",
       "      <th>148</th>\n",
       "      <td>6.2</td>\n",
       "      <td>3.4</td>\n",
       "      <td>5.4</td>\n",
       "      <td>2.3</td>\n",
       "      <td>virginica</td>\n",
       "    </tr>\n",
       "    <tr>\n",
       "      <th>149</th>\n",
       "      <td>5.9</td>\n",
       "      <td>3.0</td>\n",
       "      <td>5.1</td>\n",
       "      <td>1.8</td>\n",
       "      <td>virginica</td>\n",
       "    </tr>\n",
       "  </tbody>\n",
       "</table>\n",
       "<p>150 rows × 5 columns</p>\n",
       "</div>"
      ],
      "text/plain": [
       "     sepal_length  sepal_width  petal_length  petal_width    species\n",
       "0             5.1          3.5           1.4          0.2     setosa\n",
       "1             4.9          3.0           1.4          0.2     setosa\n",
       "2             4.7          3.2           1.3          0.2     setosa\n",
       "3             4.6          3.1           1.5          0.2     setosa\n",
       "4             5.0          3.6           1.4          0.2     setosa\n",
       "..            ...          ...           ...          ...        ...\n",
       "145           6.7          3.0           5.2          2.3  virginica\n",
       "146           6.3          2.5           5.0          1.9  virginica\n",
       "147           6.5          3.0           5.2          2.0  virginica\n",
       "148           6.2          3.4           5.4          2.3  virginica\n",
       "149           5.9          3.0           5.1          1.8  virginica\n",
       "\n",
       "[150 rows x 5 columns]"
      ]
     },
     "execution_count": 23,
     "metadata": {},
     "output_type": "execute_result"
    }
   ],
   "source": [
    "datac "
   ]
  },
  {
   "cell_type": "code",
   "execution_count": 25,
   "id": "60942da7-bad8-4fc0-8394-c2b1be2ad032",
   "metadata": {},
   "outputs": [],
   "source": [
    "fv = datac.iloc[:,0:-1]\n",
    "cv = datac.iloc[:,-1]"
   ]
  },
  {
   "cell_type": "code",
   "execution_count": 27,
   "id": "84715499-9dd8-4b4f-822f-92f108aed1c2",
   "metadata": {},
   "outputs": [
    {
     "data": {
      "text/html": [
       "<div>\n",
       "<style scoped>\n",
       "    .dataframe tbody tr th:only-of-type {\n",
       "        vertical-align: middle;\n",
       "    }\n",
       "\n",
       "    .dataframe tbody tr th {\n",
       "        vertical-align: top;\n",
       "    }\n",
       "\n",
       "    .dataframe thead th {\n",
       "        text-align: right;\n",
       "    }\n",
       "</style>\n",
       "<table border=\"1\" class=\"dataframe\">\n",
       "  <thead>\n",
       "    <tr style=\"text-align: right;\">\n",
       "      <th></th>\n",
       "      <th>sepal_length</th>\n",
       "      <th>sepal_width</th>\n",
       "      <th>petal_length</th>\n",
       "      <th>petal_width</th>\n",
       "    </tr>\n",
       "  </thead>\n",
       "  <tbody>\n",
       "    <tr>\n",
       "      <th>0</th>\n",
       "      <td>5.1</td>\n",
       "      <td>3.5</td>\n",
       "      <td>1.4</td>\n",
       "      <td>0.2</td>\n",
       "    </tr>\n",
       "    <tr>\n",
       "      <th>1</th>\n",
       "      <td>4.9</td>\n",
       "      <td>3.0</td>\n",
       "      <td>1.4</td>\n",
       "      <td>0.2</td>\n",
       "    </tr>\n",
       "    <tr>\n",
       "      <th>2</th>\n",
       "      <td>4.7</td>\n",
       "      <td>3.2</td>\n",
       "      <td>1.3</td>\n",
       "      <td>0.2</td>\n",
       "    </tr>\n",
       "    <tr>\n",
       "      <th>3</th>\n",
       "      <td>4.6</td>\n",
       "      <td>3.1</td>\n",
       "      <td>1.5</td>\n",
       "      <td>0.2</td>\n",
       "    </tr>\n",
       "    <tr>\n",
       "      <th>4</th>\n",
       "      <td>5.0</td>\n",
       "      <td>3.6</td>\n",
       "      <td>1.4</td>\n",
       "      <td>0.2</td>\n",
       "    </tr>\n",
       "    <tr>\n",
       "      <th>...</th>\n",
       "      <td>...</td>\n",
       "      <td>...</td>\n",
       "      <td>...</td>\n",
       "      <td>...</td>\n",
       "    </tr>\n",
       "    <tr>\n",
       "      <th>145</th>\n",
       "      <td>6.7</td>\n",
       "      <td>3.0</td>\n",
       "      <td>5.2</td>\n",
       "      <td>2.3</td>\n",
       "    </tr>\n",
       "    <tr>\n",
       "      <th>146</th>\n",
       "      <td>6.3</td>\n",
       "      <td>2.5</td>\n",
       "      <td>5.0</td>\n",
       "      <td>1.9</td>\n",
       "    </tr>\n",
       "    <tr>\n",
       "      <th>147</th>\n",
       "      <td>6.5</td>\n",
       "      <td>3.0</td>\n",
       "      <td>5.2</td>\n",
       "      <td>2.0</td>\n",
       "    </tr>\n",
       "    <tr>\n",
       "      <th>148</th>\n",
       "      <td>6.2</td>\n",
       "      <td>3.4</td>\n",
       "      <td>5.4</td>\n",
       "      <td>2.3</td>\n",
       "    </tr>\n",
       "    <tr>\n",
       "      <th>149</th>\n",
       "      <td>5.9</td>\n",
       "      <td>3.0</td>\n",
       "      <td>5.1</td>\n",
       "      <td>1.8</td>\n",
       "    </tr>\n",
       "  </tbody>\n",
       "</table>\n",
       "<p>150 rows × 4 columns</p>\n",
       "</div>"
      ],
      "text/plain": [
       "     sepal_length  sepal_width  petal_length  petal_width\n",
       "0             5.1          3.5           1.4          0.2\n",
       "1             4.9          3.0           1.4          0.2\n",
       "2             4.7          3.2           1.3          0.2\n",
       "3             4.6          3.1           1.5          0.2\n",
       "4             5.0          3.6           1.4          0.2\n",
       "..            ...          ...           ...          ...\n",
       "145           6.7          3.0           5.2          2.3\n",
       "146           6.3          2.5           5.0          1.9\n",
       "147           6.5          3.0           5.2          2.0\n",
       "148           6.2          3.4           5.4          2.3\n",
       "149           5.9          3.0           5.1          1.8\n",
       "\n",
       "[150 rows x 4 columns]"
      ]
     },
     "execution_count": 27,
     "metadata": {},
     "output_type": "execute_result"
    }
   ],
   "source": [
    "fv"
   ]
  },
  {
   "cell_type": "code",
   "execution_count": 29,
   "id": "ac286e15-2e01-48de-aa7f-cff08638287a",
   "metadata": {},
   "outputs": [],
   "source": [
    "cv = cv.map({\"setosa\":0,\"versicolor\":1,\"virginica\":2})"
   ]
  },
  {
   "cell_type": "code",
   "execution_count": 31,
   "id": "db2515c4-a8f0-4aa1-9b70-36d9df8e16bf",
   "metadata": {},
   "outputs": [
    {
     "data": {
      "text/plain": [
       "0      0\n",
       "1      0\n",
       "2      0\n",
       "3      0\n",
       "4      0\n",
       "      ..\n",
       "145    2\n",
       "146    2\n",
       "147    2\n",
       "148    2\n",
       "149    2\n",
       "Name: species, Length: 150, dtype: int64"
      ]
     },
     "execution_count": 31,
     "metadata": {},
     "output_type": "execute_result"
    }
   ],
   "source": [
    "cv"
   ]
  },
  {
   "cell_type": "code",
   "execution_count": 33,
   "id": "25698f0e-fdcb-4743-b396-fe5f8970a4ca",
   "metadata": {},
   "outputs": [],
   "source": [
    "import sklearn\n",
    "import pandas as pd"
   ]
  },
  {
   "cell_type": "code",
   "execution_count": 35,
   "id": "4862b9d6-dd62-44eb-b75a-2c60c5773e44",
   "metadata": {},
   "outputs": [],
   "source": [
    "from sklearn.model_selection import train_test_split"
   ]
  },
  {
   "cell_type": "code",
   "execution_count": 37,
   "id": "219b3900-e26b-44cf-9bce-aa35c9f34136",
   "metadata": {},
   "outputs": [],
   "source": [
    "x_train,x_test,y_train,y_test = train_test_split(fv,cv,test_size = 0.2,random_state = 1) # Random spliting #To avoid shufffling of datapoint we use random_state"
   ]
  },
  {
   "cell_type": "code",
   "execution_count": 39,
   "id": "0086481b-9935-45dc-a2e9-8b93563b496f",
   "metadata": {},
   "outputs": [],
   "source": [
    "x_train,x_test,y_train,y_test = train_test_split(fv,cv,test_size = 0.2,stratify = cv) # Stratified random spliting"
   ]
  },
  {
   "cell_type": "code",
   "execution_count": 41,
   "id": "bdc5073f-0a04-46fc-bb52-fb29baf8515d",
   "metadata": {},
   "outputs": [
    {
     "data": {
      "text/plain": [
       "(120, 4)"
      ]
     },
     "execution_count": 41,
     "metadata": {},
     "output_type": "execute_result"
    }
   ],
   "source": [
    "x_train.shape"
   ]
  },
  {
   "cell_type": "code",
   "execution_count": 43,
   "id": "8864b53d-083a-43a3-875d-e6a2e4fadcd2",
   "metadata": {},
   "outputs": [
    {
     "data": {
      "text/plain": [
       "(30, 4)"
      ]
     },
     "execution_count": 43,
     "metadata": {},
     "output_type": "execute_result"
    }
   ],
   "source": [
    "x_test.shape"
   ]
  },
  {
   "cell_type": "code",
   "execution_count": 45,
   "id": "0e5715e9-2ca2-4a8a-824e-2521921115d0",
   "metadata": {},
   "outputs": [
    {
     "data": {
      "text/plain": [
       "(120,)"
      ]
     },
     "execution_count": 45,
     "metadata": {},
     "output_type": "execute_result"
    }
   ],
   "source": [
    "y_train.shape"
   ]
  },
  {
   "cell_type": "code",
   "execution_count": 47,
   "id": "3d98c4af-ac81-45d4-82f7-98965298d99c",
   "metadata": {},
   "outputs": [
    {
     "data": {
      "text/plain": [
       "(30,)"
      ]
     },
     "execution_count": 47,
     "metadata": {},
     "output_type": "execute_result"
    }
   ],
   "source": [
    "y_test.shape"
   ]
  },
  {
   "cell_type": "markdown",
   "id": "bab90e42-3574-4361-a0c9-41eb72ae04b7",
   "metadata": {},
   "source": [
    "### Training"
   ]
  },
  {
   "cell_type": "code",
   "execution_count": 50,
   "id": "791a3fd8-022b-4ef5-b262-4e909b458685",
   "metadata": {},
   "outputs": [],
   "source": [
    "from sklearn.neighbors import KNeighborsClassifier,KNeighborsRegressor"
   ]
  },
  {
   "cell_type": "code",
   "execution_count": 52,
   "id": "c189b3a3-31d3-4ddd-8cdc-0d1a2f5dd2d0",
   "metadata": {},
   "outputs": [],
   "source": [
    "knn =  KNeighborsClassifier(n_neighbors = 1) # we have cretae a 1-nn alogarthim"
   ]
  },
  {
   "cell_type": "code",
   "execution_count": 54,
   "id": "a530ec04-0abd-4472-945f-647657b6caeb",
   "metadata": {},
   "outputs": [],
   "source": [
    "model = knn.fit(x_train,y_train)"
   ]
  },
  {
   "cell_type": "markdown",
   "id": "31d75ef7-bf0c-42f6-8021-77a2086aa34b",
   "metadata": {},
   "source": [
    "### Testing"
   ]
  },
  {
   "cell_type": "code",
   "execution_count": 57,
   "id": "cff44ec0-799a-4f9e-a360-f34939df8a26",
   "metadata": {},
   "outputs": [],
   "source": [
    "y_cap = model.predict(x_test)"
   ]
  },
  {
   "cell_type": "code",
   "execution_count": 59,
   "id": "75ee1fd6-ae78-46f0-b09f-946f7ab435e1",
   "metadata": {},
   "outputs": [],
   "source": [
    "from sklearn.metrics import accuracy_score"
   ]
  },
  {
   "cell_type": "markdown",
   "id": "62ea2d49-a696-44d4-8690-87f722f66ac2",
   "metadata": {},
   "source": [
    "### Finding Accuracy"
   ]
  },
  {
   "cell_type": "code",
   "execution_count": 62,
   "id": "0ede3b45-bca6-4d3d-b521-f161c3744ff2",
   "metadata": {},
   "outputs": [
    {
     "data": {
      "text/plain": [
       "0.9333333333333333"
      ]
     },
     "execution_count": 62,
     "metadata": {},
     "output_type": "execute_result"
    }
   ],
   "source": [
    "accuracy_score(y_test,y_cap)"
   ]
  },
  {
   "cell_type": "code",
   "execution_count": 64,
   "id": "2c7df9aa-25a6-489b-973c-92936b60d9fc",
   "metadata": {},
   "outputs": [],
   "source": [
    "acc = []\n",
    "k = []\n",
    "for k1 in range(1,121,2):\n",
    "    knn = KNeighborsClassifier(n_neighbors = k1)\n",
    "    model = knn.fit(x_train,y_train)\n",
    "\n",
    "    y_cap = model.predict(x_test)\n",
    "\n",
    "    acc.append(accuracy_score(y_test,y_cap))\n",
    "    k.append(k1)"
   ]
  },
  {
   "cell_type": "code",
   "execution_count": 65,
   "id": "ad7f3785-5ac6-4a57-ac46-c217aec4ccfc",
   "metadata": {},
   "outputs": [
    {
     "data": {
      "text/plain": [
       "Text(0, 0.5, 'Accuracy')"
      ]
     },
     "execution_count": 65,
     "metadata": {},
     "output_type": "execute_result"
    },
    {
     "data": {
      "image/png": "[encoded data removed]",
      "text/plain": [
       "<Figure size 1500x1000 with 1 Axes>"
      ]
     },
     "metadata": {},
     "output_type": "display_data"
    }
   ],
   "source": [
    "plt.figure(figsize =(15,10))\n",
    "sns.lineplot(x = k,y = acc)\n",
    "plt.xticks(k)\n",
    "plt.xlabel(\"k\")\n",
    "plt.ylabel(\"Accuracy\")"
   ]
  },
  {
   "cell_type": "code",
   "execution_count": 68,
   "id": "2b76bf76-b696-48c9-a66f-642205f768e6",
   "metadata": {},
   "outputs": [],
   "source": [
    "knn5 =  KNeighborsClassifier(n_neighbors = 5)"
   ]
  },
  {
   "cell_type": "code",
   "execution_count": 70,
   "id": "3fa9a712-486c-4a17-858c-589a172151f9",
   "metadata": {},
   "outputs": [],
   "source": [
    "model1 = knn5.fit(x_train,y_train)"
   ]
  },
  {
   "cell_type": "code",
   "execution_count": 72,
   "id": "7d4acdad-3fef-41fc-84b4-075fde7ae779",
   "metadata": {},
   "outputs": [],
   "source": [
    "y_cap1 = model1.predict(x_test)"
   ]
  },
  {
   "cell_type": "code",
   "execution_count": 74,
   "id": "489d76ab-fb63-49f2-a892-0d51899af15f",
   "metadata": {},
   "outputs": [
    {
     "data": {
      "text/plain": [
       "1.0"
      ]
     },
     "execution_count": 74,
     "metadata": {},
     "output_type": "execute_result"
    }
   ],
   "source": [
    "accuracy_score(y_test,y_cap1)"
   ]
  },
  {
   "cell_type": "markdown",
   "id": "ba9a3092-ce14-4a31-a7c8-e3c03dba61b7",
   "metadata": {},
   "source": [
    "#### D_train,D_CV,D_test"
   ]
  },
  {
   "cell_type": "code",
   "execution_count": 77,
   "id": "9379507c-f5f6-45a5-927f-d89693029752",
   "metadata": {},
   "outputs": [],
   "source": [
    "x_train,x_test,y_train,y_test = train_test_split(fv,cv,test_size = 0.2,stratify = cv)\n",
    "x_trainf,x_cv,y_trainf,y_cv = train_test_split(x_train,y_train,test_size = 0.2,stratify = y_train)"
   ]
  },
  {
   "cell_type": "code",
   "execution_count": 79,
   "id": "b2afe83e-8bee-4652-8673-c8acb4253c1d",
   "metadata": {},
   "outputs": [
    {
     "data": {
      "text/plain": [
       "(96, 4)"
      ]
     },
     "execution_count": 79,
     "metadata": {},
     "output_type": "execute_result"
    }
   ],
   "source": [
    "x_trainf.shape"
   ]
  },
  {
   "cell_type": "code",
   "execution_count": 81,
   "id": "c5ef1d24-3a4b-4e1f-906c-3a468f73696c",
   "metadata": {},
   "outputs": [],
   "source": [
    "a = []\n",
    "K = []\n",
    "for k1 in range(1,97,2):\n",
    "    knn =  KNeighborsClassifier(n_neighbors = k1)\n",
    "    model = knn.fit(x_trainf,y_trainf)\n",
    "\n",
    "    y_cap1 = model.predict(x_cv)\n",
    "    a.append(accuracy_score(y_cv,y_cap1))\n",
    "    K.append(k1)"
   ]
  },
  {
   "cell_type": "code",
   "execution_count": 82,
   "id": "095facff-bbe1-414c-8475-9a18618fd38d",
   "metadata": {},
   "outputs": [
    {
     "data": {
      "text/plain": [
       "Text(0, 0.5, 'Accuracy')"
      ]
     },
     "execution_count": 82,
     "metadata": {},
     "output_type": "execute_result"
    },
    {
     "data": {
      "image/png": "[encoded data removed]",
      "text/plain": [
       "<Figure size 1500x1000 with 1 Axes>"
      ]
     },
     "metadata": {},
     "output_type": "display_data"
    }
   ],
   "source": [
    "plt.figure(figsize =(15,10))\n",
    "sns.lineplot(x = K,y = a)\n",
    "plt.xticks(K)\n",
    "plt.xlabel(\"k\")\n",
    "plt.ylabel(\"Accuracy\")"
   ]
  },
  {
   "cell_type": "code",
   "execution_count": 84,
   "id": "424102db-42e0-403e-a8c0-4360658d58a1",
   "metadata": {},
   "outputs": [],
   "source": [
    "knn =  KNeighborsClassifier(n_neighbors = 27)"
   ]
  },
  {
   "cell_type": "code",
   "execution_count": 87,
   "id": "0b8f44d3-4ce5-4b0f-b1d9-5d03ce4cce72",
   "metadata": {},
   "outputs": [],
   "source": [
    "model = knn.fit(x_train,y_train)"
   ]
  },
  {
   "cell_type": "code",
   "execution_count": 89,
   "id": "e919826e-5c98-463a-9020-84107bdfcbba",
   "metadata": {},
   "outputs": [],
   "source": [
    "y_cap = model.predict(x_test)"
   ]
  },
  {
   "cell_type": "code",
   "execution_count": 91,
   "id": "402d8c96-9019-4789-8678-9554a4f44350",
   "metadata": {},
   "outputs": [
    {
     "data": {
      "text/plain": [
       "array([1, 1, 2, 2, 1, 0, 0, 0, 0, 1, 2, 0, 1, 2, 2, 2, 1, 2, 0, 2, 1, 0,\n",
       "       2, 0, 0, 1, 1, 2, 2, 0], dtype=int64)"
      ]
     },
     "execution_count": 91,
     "metadata": {},
     "output_type": "execute_result"
    }
   ],
   "source": [
    "y_cap"
   ]
  },
  {
   "cell_type": "code",
   "execution_count": 93,
   "id": "03459448-a1f2-4764-8699-efd5c0004a4c",
   "metadata": {},
   "outputs": [
    {
     "data": {
      "text/plain": [
       "0.9666666666666667"
      ]
     },
     "execution_count": 93,
     "metadata": {},
     "output_type": "execute_result"
    }
   ],
   "source": [
    "accuracy_score(y_test,y_cap)"
   ]
  },
  {
   "cell_type": "markdown",
   "id": "d4cd1307-81da-4f79-8fd8-aa5413a5f18a",
   "metadata": {},
   "source": [
    "### Stratified K-fold cross validation --Classification\n",
    "### K-fold cross validation -- Regression"
   ]
  },
  {
   "cell_type": "code",
   "execution_count": 96,
   "id": "64c3eccd-e9ed-4634-8594-9c9cf150b1d8",
   "metadata": {},
   "outputs": [],
   "source": [
    "x_train,x_test,y_train,y_test = train_test_split(fv,cv,test_size = 0.2,stratify = cv)"
   ]
  },
  {
   "cell_type": "code",
   "execution_count": 98,
   "id": "34ab8a78-7dd6-4181-85f3-36f579e51ed1",
   "metadata": {},
   "outputs": [],
   "source": [
    "from sklearn.model_selection import cross_val_score,cross_validate"
   ]
  },
  {
   "cell_type": "code",
   "execution_count": 100,
   "id": "3e26045c-f50a-4308-8f82-50f909611609",
   "metadata": {},
   "outputs": [],
   "source": [
    "knn = KNeighborsClassifier(n_neighbors = 1)"
   ]
  },
  {
   "cell_type": "code",
   "execution_count": 106,
   "id": "ff4119a9-03e6-4ad8-88cd-7d43db21104d",
   "metadata": {},
   "outputs": [
    {
     "data": {
      "text/plain": [
       "0.9166666666666666"
      ]
     },
     "execution_count": 106,
     "metadata": {},
     "output_type": "execute_result"
    }
   ],
   "source": [
    "cross_val_score(estimator = knn,X = x_train, y= y_train,cv = 3,scoring = \"accuracy\").mean()"
   ]
  },
  {
   "cell_type": "code",
   "execution_count": 153,
   "id": "6131fb3c-8acc-4d9d-8140-fea240994859",
   "metadata": {},
   "outputs": [],
   "source": [
    "# No.of train point will be equal to (d_train/cv)*(cv-1)\n",
    "acc = []\n",
    "K = []\n",
    "for k1 in range(1,91,2):\n",
    "    knn = KNeighborsClassifier(n_neighbors = k1)\n",
    "    acc.append(cross_val_score(estimator = knn,X = x_train, y= y_train,cv = 4,scoring = \"accuracy\").mean())\n",
    "    K.append(k1)"
   ]
  },
  {
   "cell_type": "code",
   "execution_count": 155,
   "id": "b2e7ba20-77c3-4125-97db-672589cd6e54",
   "metadata": {},
   "outputs": [
    {
     "data": {
      "text/plain": [
       "Text(0, 0.5, 'Accuracy')"
      ]
     },
     "execution_count": 155,
     "metadata": {},
     "output_type": "execute_result"
    },
    {
     "data": {
      "image/png": "[encoded data removed]",
      "text/plain": [
       "<Figure size 1500x1000 with 1 Axes>"
      ]
     },
     "metadata": {},
     "output_type": "display_data"
    }
   ],
   "source": [
    "plt.figure(figsize =(15,10))\n",
    "sns.lineplot(x = K,y = acc)\n",
    "plt.xticks(K)\n",
    "plt.xlabel(\"k\")\n",
    "plt.ylabel(\"Accuracy\")"
   ]
  },
  {
   "cell_type": "code",
   "execution_count": 157,
   "id": "73ea2b6b-e0c4-482c-9c67-08e224c08915",
   "metadata": {},
   "outputs": [],
   "source": [
    "knn =  KNeighborsClassifier(n_neighbors = 7)"
   ]
  },
  {
   "cell_type": "code",
   "execution_count": 159,
   "id": "dad5c0b6-2dbe-49e9-b8e5-3e03c99ee0f3",
   "metadata": {},
   "outputs": [],
   "source": [
    "model = knn.fit(x_train,y_train)"
   ]
  },
  {
   "cell_type": "code",
   "execution_count": 161,
   "id": "00a8b6aa-25fe-4e36-b027-e2bef9f00eb0",
   "metadata": {},
   "outputs": [],
   "source": [
    "y_cap = model.predict(x_test)"
   ]
  },
  {
   "cell_type": "code",
   "execution_count": 163,
   "id": "91c364dc-75ab-4719-b2c0-efb863812e4b",
   "metadata": {},
   "outputs": [
    {
     "data": {
      "text/plain": [
       "0.9666666666666667"
      ]
     },
     "execution_count": 163,
     "metadata": {},
     "output_type": "execute_result"
    }
   ],
   "source": [
    "accuracy_score(y_test,y_cap)"
   ]
  },
  {
   "cell_type": "code",
   "execution_count": null,
   "id": "da6562b4-f10e-496a-8171-0815b43771c1",
   "metadata": {},
   "outputs": [],
   "source": []
  }
 ],
 "metadata": {
  "kernelspec": {
   "display_name": "Python 3 (ipykernel)",
   "language": "python",
   "name": "python3"
  },
  "language_info": {
   "codemirror_mode": {
    "name": "ipython",
    "version": 3
   },
   "file_extension": ".py",
   "mimetype": "text/x-python",
   "name": "python",
   "nbconvert_exporter": "python",
   "pygments_lexer": "ipython3",
   "version": "3.12.4"
  }
 },
 "nbformat": 4,
 "nbformat_minor": 5
}
