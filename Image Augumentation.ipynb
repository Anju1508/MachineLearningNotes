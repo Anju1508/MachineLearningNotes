{
 "cells": [
  {
   "cell_type": "code",
   "execution_count": 3,
   "id": "8aaaff40-4914-4e02-95bd-9722a858d3e6",
   "metadata": {},
   "outputs": [],
   "source": [
    "import cv2\n",
    "import numpy as np\n",
    "import pandas as pd"
   ]
  },
  {
   "cell_type": "code",
   "execution_count": 5,
   "id": "21cb6eb7-52af-4c2f-9a18-1e1311117fdf",
   "metadata": {},
   "outputs": [],
   "source": [
    " img = cv2.imread(r\"C:\\Users\\91912\\Downloads\\flower_photos\\tulips\\38287568_627de6ca20.jpg\")"
   ]
  },
  {
   "cell_type": "code",
   "execution_count": 7,
   "id": "693013e7-d59c-439b-92f9-ce40ff531039",
   "metadata": {},
   "outputs": [
    {
     "data": {
      "text/plain": [
       "(333, 500, 3)"
      ]
     },
     "execution_count": 7,
     "metadata": {},
     "output_type": "execute_result"
    }
   ],
   "source": [
    "img.shape"
   ]
  },
  {
   "cell_type": "markdown",
   "id": "b8c99f12-dc81-413c-bfbd-74f3e9af6dbf",
   "metadata": {},
   "source": [
    "#### 1)Translation"
   ]
  },
  {
   "cell_type": "code",
   "execution_count": 43,
   "id": "8e918474-d9bd-4f76-b159-4ec8e9535663",
   "metadata": {},
   "outputs": [],
   "source": [
    "# Translation matrix\n",
    "tx = 50\n",
    "ty = 50\n",
    "t_m = np.array([[1,0,tx],[0,1,ty]],dtype = np.float32)"
   ]
  },
  {
   "cell_type": "code",
   "execution_count": 45,
   "id": "fa409e6d-1eb7-4f2e-92a3-54c8345be7ca",
   "metadata": {},
   "outputs": [
    {
     "data": {
      "text/plain": [
       "array([[ 1.,  0., 50.],\n",
       "       [ 0.,  1., 50.]], dtype=float32)"
      ]
     },
     "execution_count": 45,
     "metadata": {},
     "output_type": "execute_result"
    }
   ],
   "source": [
    "t_m"
   ]
  },
  {
   "cell_type": "code",
   "execution_count": 49,
   "id": "b0743ca3-d752-4ac3-bd7c-c27cea5912ae",
   "metadata": {},
   "outputs": [],
   "source": [
    "# image translation\n",
    "t_img = cv2.warpAffine(img,t_m,(500,333))"
   ]
  },
  {
   "cell_type": "code",
   "execution_count": 51,
   "id": "79f0ffd7-a94a-4ae7-8811-ea7a6646d5fc",
   "metadata": {},
   "outputs": [],
   "source": [
    "cv2.imshow(\"Orginal\",img)\n",
    "cv2.imshow(\"Translated_img\",t_img)\n",
    "cv2.waitKey()\n",
    "cv2.destroyAllWindows()"
   ]
  },
  {
   "cell_type": "markdown",
   "id": "42a8e47b-d63e-42c9-b04d-3eaffc30db6f",
   "metadata": {},
   "source": [
    "##### Image translation along with borderMode"
   ]
  },
  {
   "cell_type": "code",
   "execution_count": 62,
   "id": "d4bee402-4b5a-443d-9fe3-82b9388ad83e",
   "metadata": {},
   "outputs": [],
   "source": [
    "t_img1 = cv2.warpAffine(img,t_m,(500,333),borderMode = cv2.BORDER_REFLECT)\n",
    "t_img2 = cv2.warpAffine(img,t_m,(500,333),borderMode = cv2.BORDER_CONSTANT,borderValue = (50,155,255))"
   ]
  },
  {
   "cell_type": "code",
   "execution_count": 64,
   "id": "e1007694-5a05-40a1-ac42-52c9c848fb08",
   "metadata": {},
   "outputs": [],
   "source": [
    "cv2.imshow(\"Orginal\",img)\n",
    "cv2.imshow(\"Translated_img1\",t_img1)\n",
    "cv2.imshow(\"Translated_img2\",t_img2)\n",
    "cv2.waitKey()\n",
    "cv2.destroyAllWindows()"
   ]
  },
  {
   "cell_type": "markdown",
   "id": "40b3f01e-4aaf-4956-b377-a384f7f825fb",
   "metadata": {},
   "source": [
    "#### 2) Rotation"
   ]
  },
  {
   "cell_type": "code",
   "execution_count": 70,
   "id": "a9ed6ff2-4e90-4b18-ae06-f6ba100509be",
   "metadata": {},
   "outputs": [
    {
     "data": {
      "text/plain": [
       "(333, 500, 3)"
      ]
     },
     "execution_count": 70,
     "metadata": {},
     "output_type": "execute_result"
    }
   ],
   "source": [
    "img.shape"
   ]
  },
  {
   "cell_type": "code",
   "execution_count": 82,
   "id": "e5da501e-6223-4c11-8aeb-456c336569d7",
   "metadata": {},
   "outputs": [],
   "source": [
    "r_m = cv2.getRotationMatrix2D((166,225),90,1) # 1 is used for without Zooming\n",
    "r_m1 = cv2.getRotationMatrix2D((166,225),60,1)\n",
    "r_m2 = cv2.getRotationMatrix2D((166,225),45,1)\n",
    "r_m3 = cv2.getRotationMatrix2D((166,225),30,1)"
   ]
  },
  {
   "cell_type": "code",
   "execution_count": 74,
   "id": "00699ede-afc6-4213-bec9-8d154f99865d",
   "metadata": {},
   "outputs": [
    {
     "data": {
      "text/plain": [
       "array([[ 6.123234e-17,  1.000000e+00, -5.900000e+01],\n",
       "       [-1.000000e+00,  6.123234e-17,  3.910000e+02]])"
      ]
     },
     "execution_count": 74,
     "metadata": {},
     "output_type": "execute_result"
    }
   ],
   "source": [
    "r_m"
   ]
  },
  {
   "cell_type": "code",
   "execution_count": 84,
   "id": "798551ea-2649-4e2f-94f6-329a6faa7598",
   "metadata": {},
   "outputs": [],
   "source": [
    "r_img = cv2.warpAffine(img,r_m,(500,333))\n",
    "r_img1 = cv2.warpAffine(img,r_m1,(500,333))\n",
    "r_img2 = cv2.warpAffine(img,r_m2,(500,333))\n",
    "r_img3 = cv2.warpAffine(img,r_m3,(500,333))"
   ]
  },
  {
   "cell_type": "code",
   "execution_count": 86,
   "id": "8f3f80ba-7a6f-4078-9abb-b664406a95c7",
   "metadata": {},
   "outputs": [],
   "source": [
    "cv2.imshow(\"Orginal\",img)\n",
    "cv2.imshow(\"Rotated_img\",r_img)\n",
    "cv2.imshow(\"Rotated_img1\",r_img1)\n",
    "cv2.imshow(\"Rotated_img2\",r_img2)\n",
    "cv2.imshow(\"Rotated_img3\",r_img3)\n",
    "cv2.waitKey()\n",
    "cv2.destroyAllWindows()"
   ]
  },
  {
   "cell_type": "code",
   "execution_count": 115,
   "id": "e388e549-29c2-4da3-a7d2-f48410b1a42a",
   "metadata": {},
   "outputs": [],
   "source": [
    "r_m0 = cv2.getRotationMatrix2D((0,0),45,1)"
   ]
  },
  {
   "cell_type": "code",
   "execution_count": 117,
   "id": "72fd8c86-b032-4e0e-ab25-8d053c0bfdbc",
   "metadata": {},
   "outputs": [],
   "source": [
    "r_img0 = cv2.warpAffine(img,r_m0,(500,333))"
   ]
  },
  {
   "cell_type": "code",
   "execution_count": 119,
   "id": "b7f9de02-8dcc-4d87-b5ec-fdd99c1455be",
   "metadata": {},
   "outputs": [],
   "source": [
    "cv2.imshow(\"Rotated_img0\",r_img0)\n",
    "cv2.waitKey()\n",
    "cv2.destroyAllWindows()"
   ]
  },
  {
   "cell_type": "markdown",
   "id": "08cc67b7-3266-4cec-93c8-ca071eefa9c5",
   "metadata": {},
   "source": [
    "##### Rotate"
   ]
  },
  {
   "cell_type": "code",
   "execution_count": 107,
   "id": "60958236-17ba-4b30-a6b1-174f7be62366",
   "metadata": {},
   "outputs": [],
   "source": [
    "img1 = cv2.rotate(img,cv2.ROTATE_180)\n",
    "img2 = cv2.rotate(img,cv2.ROTATE_90_CLOCKWISE)\n",
    "img3 = cv2.rotate(img,cv2.ROTATE_90_COUNTERCLOCKWISE)\n",
    "\n",
    "cv2.imshow(\"Orginal\",img)\n",
    "cv2.imshow(\"Rotated_img1\",img1)\n",
    "cv2.imshow(\"Rotated_img2\",img2)\n",
    "cv2.imshow(\"Rotated_img3\",img3)\n",
    "cv2.waitKey()\n",
    "cv2.destroyAllWindows()"
   ]
  },
  {
   "cell_type": "markdown",
   "id": "cdf148d8-3166-4e95-bcb7-8bb8cdb01616",
   "metadata": {},
   "source": [
    "#### 3) Scaling"
   ]
  },
  {
   "cell_type": "code",
   "execution_count": 140,
   "id": "5b204055-d164-4978-974e-6dbe5e442d6a",
   "metadata": {},
   "outputs": [],
   "source": [
    "sx = 3\n",
    "sy = 3\n",
    "tx = 0\n",
    "ty = 0\n",
    "sc_m = np.array([[sx,0,tx],[0,sy,ty]],dtype = np.float32)"
   ]
  },
  {
   "cell_type": "code",
   "execution_count": 142,
   "id": "6f67aadb-caef-464b-bd77-200e402ed843",
   "metadata": {},
   "outputs": [
    {
     "data": {
      "text/plain": [
       "array([[3., 0., 0.],\n",
       "       [0., 3., 0.]], dtype=float32)"
      ]
     },
     "execution_count": 142,
     "metadata": {},
     "output_type": "execute_result"
    }
   ],
   "source": [
    "sc_m"
   ]
  },
  {
   "cell_type": "code",
   "execution_count": 144,
   "id": "23d9fdd0-ee35-4122-8eb5-a281748dd840",
   "metadata": {},
   "outputs": [],
   "source": [
    "scale_img = cv2.warpAffine(img,sc_m,(500,333))"
   ]
  },
  {
   "cell_type": "code",
   "execution_count": 146,
   "id": "82bd09a0-d425-44aa-a88d-65796f0618f3",
   "metadata": {},
   "outputs": [],
   "source": [
    "cv2.imshow(\"Orginal_img\",img)\n",
    "cv2.imshow(\"Zoomed_img\",scale_img)\n",
    "cv2.waitKey()\n",
    "cv2.destroyAllWindows()"
   ]
  },
  {
   "cell_type": "code",
   "execution_count": 150,
   "id": "8af173f5-df82-43d3-ba98-700238ac4004",
   "metadata": {},
   "outputs": [],
   "source": [
    "cv2.imshow(\"Orginal_img\",cv2.resize(img,(500,500)))\n",
    "cv2.imshow(\"Zoomed_img\",cv2.resize(img,(50,50)))\n",
    "cv2.waitKey()\n",
    "cv2.destroyAllWindows()"
   ]
  },
  {
   "cell_type": "markdown",
   "id": "e653d343-3759-4a67-b93d-a342e804eb5e",
   "metadata": {},
   "source": [
    "#### 4) Sheering"
   ]
  },
  {
   "cell_type": "code",
   "execution_count": 160,
   "id": "78002bc0-e185-4b93-82e8-8dc75f3a8d78",
   "metadata": {},
   "outputs": [],
   "source": [
    "shx = 1\n",
    "shy = 0\n",
    "tx = 0\n",
    "ty = 0\n",
    "sh_m = np.array([[1,shx,tx],[shy,1,ty]],dtype = np.float32)"
   ]
  },
  {
   "cell_type": "code",
   "execution_count": 170,
   "id": "5c2b45db-1421-4c6c-9c12-4d2372013a28",
   "metadata": {},
   "outputs": [],
   "source": [
    "she_img = cv2.warpAffine(img,sh_m,(500,333))"
   ]
  },
  {
   "cell_type": "code",
   "execution_count": 172,
   "id": "5aa8ef2d-0725-44f4-85e4-ee527dc8fd3f",
   "metadata": {},
   "outputs": [],
   "source": [
    "cv2.imshow(\"Orginal_img\",img)\n",
    "cv2.imshow(\"Sheering_img\",she_img)\n",
    "cv2.waitKey()\n",
    "cv2.destroyAllWindows()"
   ]
  },
  {
   "cell_type": "markdown",
   "id": "e4a0bcc8-e582-4ddb-b4ea-8fa997eed484",
   "metadata": {},
   "source": [
    "#### 5) Cropping"
   ]
  },
  {
   "cell_type": "code",
   "execution_count": 176,
   "id": "a4a50e4a-0933-413a-abd5-d5793a8a95ce",
   "metadata": {},
   "outputs": [
    {
     "data": {
      "text/plain": [
       "(333, 500, 3)"
      ]
     },
     "execution_count": 176,
     "metadata": {},
     "output_type": "execute_result"
    }
   ],
   "source": [
    "img.shape"
   ]
  },
  {
   "cell_type": "code",
   "execution_count": 187,
   "id": "cee3d90c-54f8-444c-8f82-317466007ddb",
   "metadata": {},
   "outputs": [],
   "source": [
    "cr_img = img[70:150,155:250]"
   ]
  },
  {
   "cell_type": "code",
   "execution_count": null,
   "id": "937ccacb-0106-4bc6-8166-4ecf143783e4",
   "metadata": {},
   "outputs": [],
   "source": [
    "cv2.imshow(\"Orginal_img\",img)\n",
    "cv2.imshow(\"Croped_img\",cr_img)\n",
    "cv2.waitKey()\n",
    "cv2.destroyAllWindows()"
   ]
  }
 ],
 "metadata": {
  "kernelspec": {
   "display_name": "Python 3 (ipykernel)",
   "language": "python",
   "name": "python3"
  },
  "language_info": {
   "codemirror_mode": {
    "name": "ipython",
    "version": 3
   },
   "file_extension": ".py",
   "mimetype": "text/x-python",
   "name": "python",
   "nbconvert_exporter": "python",
   "pygments_lexer": "ipython3",
   "version": "3.12.4"
  }
 },
 "nbformat": 4,
 "nbformat_minor": 5
}
