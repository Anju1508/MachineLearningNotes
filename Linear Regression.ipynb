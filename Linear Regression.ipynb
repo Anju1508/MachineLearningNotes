{
 "cells": [
  {
   "cell_type": "code",
   "execution_count": 49,
   "id": "6e878201-513f-4d7e-b74e-973f68393228",
   "metadata": {},
   "outputs": [],
   "source": [
    "import numpy as np\n",
    "import pandas as pd\n",
    "import sklearn\n",
    "import seaborn as sns"
   ]
  },
  {
   "cell_type": "code",
   "execution_count": 13,
   "id": "6834baac-7ceb-430b-b6cb-3cb827fe7781",
   "metadata": {},
   "outputs": [],
   "source": [
    "from sklearn.datasets import make_regression\n",
    "from sklearn.preprocessing import StandardScaler\n",
    "from sklearn.model_selection import train_test_split"
   ]
  },
  {
   "cell_type": "code",
   "execution_count": 7,
   "id": "bf5a2997-e8a9-496a-a9be-250afa328f94",
   "metadata": {},
   "outputs": [],
   "source": [
    "x,y = make_regression(n_samples = 10000,n_features = 1)"
   ]
  },
  {
   "cell_type": "code",
   "execution_count": 15,
   "id": "dbb96336-88fc-458e-aa36-641987abdd2a",
   "metadata": {},
   "outputs": [],
   "source": [
    "x_train,x_test,y_train,y_test = train_test_split(x,y,test_size =0.2,random_state = 42)"
   ]
  },
  {
   "cell_type": "code",
   "execution_count": 17,
   "id": "cc4c65bc-b882-4494-850b-a121d0c4dca1",
   "metadata": {},
   "outputs": [],
   "source": [
    "sc = StandardScaler()"
   ]
  },
  {
   "cell_type": "code",
   "execution_count": 21,
   "id": "1fbb80f6-1d05-4a0a-a726-6b412deeff0a",
   "metadata": {},
   "outputs": [],
   "source": [
    "x_trains = sc.fit_transform(x_train)"
   ]
  },
  {
   "cell_type": "code",
   "execution_count": 23,
   "id": "954b340e-733e-4171-8e51-337353420b84",
   "metadata": {},
   "outputs": [],
   "source": [
    "x_tests = sc.transform(x_test)"
   ]
  },
  {
   "cell_type": "code",
   "execution_count": 25,
   "id": "2b0a05ab-0fd0-4b3d-a2f2-1702db433411",
   "metadata": {},
   "outputs": [],
   "source": [
    "from sklearn.linear_model import LinearRegression"
   ]
  },
  {
   "cell_type": "code",
   "execution_count": 27,
   "id": "d67e651b-17a3-4719-8351-0c916feeeacb",
   "metadata": {},
   "outputs": [],
   "source": [
    "model = LinearRegression()"
   ]
  },
  {
   "cell_type": "code",
   "execution_count": 29,
   "id": "42ec1e74-d0dd-4884-98cb-856088232372",
   "metadata": {},
   "outputs": [],
   "source": [
    "model = model.fit(x_trains,y_train)"
   ]
  },
  {
   "cell_type": "code",
   "execution_count": 35,
   "id": "dcc0bceb-4982-4ee6-9b9b-c77ad5b0349d",
   "metadata": {},
   "outputs": [
    {
     "data": {
      "text/plain": [
       "array([60.69040631])"
      ]
     },
     "execution_count": 35,
     "metadata": {},
     "output_type": "execute_result"
    }
   ],
   "source": [
    "model.coef_"
   ]
  },
  {
   "cell_type": "code",
   "execution_count": 37,
   "id": "caa917b1-54c1-4425-8a7f-edbfd4593f57",
   "metadata": {},
   "outputs": [
    {
     "data": {
      "text/plain": [
       "0.10523601318848483"
      ]
     },
     "execution_count": 37,
     "metadata": {},
     "output_type": "execute_result"
    }
   ],
   "source": [
    "model.intercept_"
   ]
  },
  {
   "cell_type": "code",
   "execution_count": 47,
   "id": "d2390662-6f15-40ca-9084-3f26bc8a2769",
   "metadata": {},
   "outputs": [
    {
     "data": {
      "text/plain": [
       "array([[ 20.47754975],\n",
       "       [-15.37479794],\n",
       "       [  6.61471503],\n",
       "       ...,\n",
       "       [-82.84936043],\n",
       "       [ 34.30621447],\n",
       "       [ 47.34594163]])"
      ]
     },
     "execution_count": 47,
     "metadata": {},
     "output_type": "execute_result"
    }
   ],
   "source": [
    "yi_cap = 60.69040631*x_tests + 0.10523601318848483\n",
    "yi_cap"
   ]
  },
  {
   "cell_type": "code",
   "execution_count": 43,
   "id": "f85f2ecb-0687-46e8-b44b-31ac246fdb63",
   "metadata": {},
   "outputs": [
    {
     "data": {
      "text/plain": [
       "array([ 20.47754975, -15.37479794,   6.61471503, ..., -82.84936044,\n",
       "        34.30621447,  47.34594163])"
      ]
     },
     "execution_count": 43,
     "metadata": {},
     "output_type": "execute_result"
    }
   ],
   "source": [
    "model.predict(x_tests)"
   ]
  },
  {
   "cell_type": "code",
   "execution_count": 53,
   "id": "936bf874-8a8f-47aa-ac2f-c363daf6e998",
   "metadata": {},
   "outputs": [
    {
     "data": {
      "text/plain": [
       "<Axes: >"
      ]
     },
     "execution_count": 53,
     "metadata": {},
     "output_type": "execute_result"
    },
    {
     "data": {
      "image/png": "[encoded data removed]",
      "text/plain": [
       "<Figure size 640x480 with 1 Axes>"
      ]
     },
     "metadata": {},
     "output_type": "display_data"
    }
   ],
   "source": [
    "sns.scatterplot(x = x_trains.flatten(),y = y_train)\n",
    "sns.scatterplot(x = x_tests.flatten(),y =model.predict(x_tests) )"
   ]
  },
  {
   "cell_type": "code",
   "execution_count": null,
   "id": "1a249c70-5584-4152-b852-e0f8f581f32c",
   "metadata": {},
   "outputs": [],
   "source": []
  },
  {
   "cell_type": "code",
   "execution_count": null,
   "id": "a5a853b1-8ed0-4a94-b0a2-e88236896fbf",
   "metadata": {},
   "outputs": [],
   "source": [
    "x1,y1 = make_regression(n_samples = 10000,n_features = 5)"
   ]
  },
  {
   "cell_type": "code",
   "execution_count": 55,
   "id": "513e249c-9250-458c-944c-88efe7f8f62a",
   "metadata": {},
   "outputs": [
    {
     "ename": "ImportError",
     "evalue": "cannot import name 'SGDRegression' from 'sklearn.linear_model' (C:\\Users\\91912\\anaconda3\\Lib\\site-packages\\sklearn\\linear_model\\__init__.py)",
     "output_type": "error",
     "traceback": [
      "\u001b[1;31m---------------------------------------------------------------------------\u001b[0m",
      "\u001b[1;31mImportError\u001b[0m                               Traceback (most recent call last)",
      "Cell \u001b[1;32mIn[55], line 1\u001b[0m\n\u001b[1;32m----> 1\u001b[0m \u001b[38;5;28;01mfrom\u001b[39;00m \u001b[38;5;21;01msklearn\u001b[39;00m\u001b[38;5;21;01m.\u001b[39;00m\u001b[38;5;21;01mlinear_model\u001b[39;00m \u001b[38;5;28;01mimport\u001b[39;00m SGDRegression\n",
      "\u001b[1;31mImportError\u001b[0m: cannot import name 'SGDRegression' from 'sklearn.linear_model' (C:\\Users\\91912\\anaconda3\\Lib\\site-packages\\sklearn\\linear_model\\__init__.py)"
     ]
    }
   ],
   "source": [
    "from sklearn.linear_model import "
   ]
  },
  {
   "cell_type": "code",
   "execution_count": null,
   "id": "d1c043b7-3a5e-44b1-afd3-246647784150",
   "metadata": {},
   "outputs": [],
   "source": []
  },
  {
   "cell_type": "code",
   "execution_count": 61,
   "id": "a7ae5958-4ef9-4df2-b7f9-9072e2a36876",
   "metadata": {},
   "outputs": [
    {
     "data": {
      "text/plain": [
       "array([  0,  -7,  -4,  -3,   2,  -5,   6,   1,   3,  -3,   7,   9,   9,\n",
       "         0,   1,  -9,  -5,   2, -10,   9,  -2,  -1,   8,   3,   7,  -6,\n",
       "        -5,   1,  -1,  -1,   2,   9,  -2,   7,  -6,   8,  -1,   0,  -6,\n",
       "         6,  -1,   4,  -3,   1,   5,   5,   5,   9,  -3,  -4,   5,   7,\n",
       "         0,   3,   6,   1,   2,  -2,   5,   0,  -8, -10,  -1,   2,  -9,\n",
       "        -7,  -3,   4,   9,  -4,  -5,   9,  -5,  -3,   7,  -3,  -1,   2,\n",
       "        -2,  -1,  -4,   4,   2,  -1,   2,  -3,  -7,  -9,  -5,   8,   3,\n",
       "         7,  -6,   8,   0,   7,   9,   8,   4,  -5,  -6,   7,   6,   9,\n",
       "        -2, -10,   4,  -3,  -3,   0,  -9,   7,   5,  -1,   6,   1, -10,\n",
       "         7,  -4,  -1,   7,   1,   6,   0,  -3,   9,   4, -10,   7,  -7,\n",
       "         5,   3,   9,  -6,  -7,   0,  -6,   5,  -7,   7,   3,  -9,   1,\n",
       "        -2,   0,  -9,   6,   2,   4,   9,   7,   4,   3,   5,  -7,   9,\n",
       "         4,   8,  -3,   1,  -8,  -5, -10,   6,   1, -10,   5,   4,   4,\n",
       "        -6,   4,   3,   6,  -8,  -5,   9,  -7,   4, -10,   1,   2,   9,\n",
       "         8,   4,   0,  -2,   9,  -2,  -4,  -4,   5,  -4,   5,  -8,   3,\n",
       "         2,   0,   6,   1,  -1,  -3,  -9,  -9,  -6,   9,  -7,  -5,  -4,\n",
       "         1,  -9,   4, -10,   7,   4,  -7,  -3, -10,  -1,  -1,   7, -10,\n",
       "         0,  -4,   0,  -4,   2,   4,  -5,   6,  -3,  -5,  -2,  -3,   9,\n",
       "         0,  -6,  -7,  -2,  -7,   0, -10,   4, -10,  -7,  -4, -10,   2,\n",
       "       -10,  -1,  -7,  -3,   9,  -9,   1,  -2,  -4,  -3,  -8,  -7,  -4,\n",
       "         4,   8,  -8,   6,   5,  -3, -10,   3,   0,   6,   6,   6,  -8,\n",
       "         1,  -1,   1,  -6,  -9,  -3,  -2,   4,   6,   1,   6,  -7,   8,\n",
       "         1,  -2,  -5,   2,   3,   5,  -4,  -2,  -6,   5,   6,   3,   7,\n",
       "         4,  -9,   2,   2,   3,   6,  -8,   0,   6,   1,   0,  -6,  -8,\n",
       "        -8,  -8,   1,  -8,  -4,  -6,  -9,  -2,   6,  -6,   7,  -5,   8,\n",
       "         9,  -5,   2,   7,   0,   7,   2,   5,   9,  -6,  -5,  -7,   6,\n",
       "         9,  -9,  -8,  -8,   4,   2,  -8,  -6,  -2, -10,  -8,   3,  -1,\n",
       "         7,   0,   2,   9,   0,   8,  -8,   0,  -1,  -7,  -6,   9, -10,\n",
       "         7, -10,  -9,  -7,   2,  -4,  -9,  -1,   5,  -4,   0,  -2,   4,\n",
       "        -8,  -9,  -4,  -3, -10,  -7,  -8,  -2,  -9,   4,  -3,  -7,  -6,\n",
       "         3,   7,   4,  -1,   3, -10,  -9,  -3,   2,   6,  -3,   6,  -8,\n",
       "        -2,   2,   5,   8,   5,  -1,   5,  -2,  -9,  -2,  -5,   1,  -9,\n",
       "         9,  -2,  -3,  -1,  -6,   4,  -4,   6,   1,  -7,   1,   1,  -8,\n",
       "         4,  -6,   0,  -4,   4,   8,   0,  -9,  -4, -10,  -9,  -5,  -9,\n",
       "         8,   2,  -2,  -3,  -9,   3,  -3,  -3,   3,   5,   4,  -7,   5,\n",
       "         3, -10,   1,   3,   2,   9,   9,   8,  -5,   2,   5,  -6,  -3,\n",
       "        -6,   7,   5,   6,   3,   9,  -5,  -3,   2,  -2,  -4,   5,  -9,\n",
       "         1,  -7,   8,  -4,   9,  -1,   6,   9,  -4,   3, -10,  -7,  -3,\n",
       "         7, -10,  -9,   8,   9,  -8,  -4,  -5,   2,   2,   6,  -7,   4,\n",
       "         1,   3,  -2,   0,  -8,  -7,  -7,  -3,   9,   4,  -3,  -8,  -6,\n",
       "        -5,  -9,  -6,   3,  -8,   3,   4,   1,  -8,  -7,   1,   4,  -6,\n",
       "        -5,  -7,  -6,   1,  -8,  -4, -10,   9,  -1,  -7,  -6,  -9,  -9,\n",
       "         0,  -1,   0,   3,   9, -10,   3,   8,  -8,  -2,  -7,   8,  -8,\n",
       "        -8,  -8,   9,   6,  -6,   2,   9,   6,   5,   6,   4, -10,   9,\n",
       "        -4,   8,  -8,   1, -10,  -2,  -8,   1,   4,  -2,   8,   7,   3,\n",
       "         5,  -3,  -4,  -1,  -6,   8,   9,   9,  -6,   5,  -1,   8,   6,\n",
       "         5,  -9,  -8,  -4,   1, -10,   4,  -9,  -1,   0,   3,  -1,   9,\n",
       "         2,   7,   1,  -4,  -1,  -8, -10,   0,   0, -10,   0,   9,  -3,\n",
       "         2, -10,  -7,   4,  -3,  -4,  -4,  -7,  -6,   0,  -9,   5,  -8,\n",
       "        -6,   7,  -3,   3,  -5,  -7,  -3,   6,   4,  -1,  -6,   8,  -9,\n",
       "         5,  -5,  -7,   8,   6,   6,   0,  -6,   4,   7,  -1,   6,   0,\n",
       "        -9,  -3,  -9,  -1,  -1,  -2,  -5,   0,   1,   9,   3,   4,   6,\n",
       "        -9,  -5,   8,  -8,   0, -10,  -3,   3,  -3,   5,  -1,   5,   6,\n",
       "         7,   4,  -5,  -9,  -1,   4,  -2,   7,   5,   8,  -1,  -6,   4,\n",
       "        -2,  -4,  -2,   9,  -6,  -2,  -6, -10,  -2,   7,  -4,  -5,  -5,\n",
       "        -4,   4,   3,   7,  -7,  -2,  -1,   7, -10,   4,  -2, -10,  -9,\n",
       "         5,   2,  -7,  -4,  -8,   9,   1,   1,   8, -10,  -4,   3,  -4,\n",
       "         1,  -1,  -2,   0,  -7,  -2,   6,  -3,  -4,   5,   4,   6,   3,\n",
       "         4,   5,   9,   6,  -5,   2,   5,  -8,  -2,  -9,   1,   7,  -2,\n",
       "        -3,  -5,   8,   0, -10,   1, -10,   4,   1,   0,   0,  -7,  -6,\n",
       "        -8,   3,   9,  -2,   3,   6,   5,  -1,  -4,   3,  -6,   2,   0,\n",
       "         2,   4,   1,  -7,   8,  -6,   1,  -2,  -9,   0,  -7,   1,   4,\n",
       "         1,  -1,  -3,  -6,  -5,   1,   5,  -3,   9,   0,   7,   5,  -2,\n",
       "         6,   6,  -5,  -8,  -2,   5,  -9,  -3,   7,   1,   3,   6,   3,\n",
       "        -1,  -5,  -6,  -9,   3,  -1,   3,   8,  -1,   4,   1,  -3,   0,\n",
       "        -2,   3, -10, -10,  -8,   0,  -4,   9,   2,   4,  -5,   9,   0,\n",
       "        -9,  -1,  -7,  -6,   7,   6,  -4,   4,   9,   6,  -7,  -7,   7,\n",
       "        -7,  -1,  -3,   8,   5,   6,  -5,   5,  -9,   5,   9,  -9, -10,\n",
       "         6,  -6,  -5,   9,   2,  -7,   5,  -9,  -7,   3,   5,   3,   4,\n",
       "         4,  -8,   0,   8,   1,  -6,   9,  -9,   8,   0,  -8,   8,  -7,\n",
       "       -10,  -9,  -4,   6,  -4,   8,   6,   7,   3,   4,   0, -10,   1,\n",
       "         0,   5,  -8,  -8,  -6,  -5,   9,  -9,   1,  -2,   5,  -9,  -8,\n",
       "         2,   7,   5,   7,  -1,   8, -10,   6,  -4,   4, -10,   6,  -3,\n",
       "        -9,   3,  -3,   3,   1,   3,  -7,   8,   9,   9,  -1, -10,   4,\n",
       "         3,   1,  -1,   0,   0,   1,  -3,  -4,  -4,   3,   7,   6,   7,\n",
       "        -4,  -3,  -9, -10,   9,   2,  -2,  -7,  -5, -10,  -5,   2,  -2,\n",
       "        -6,   0,  -3,  -9,   2,   0,  -7,   4,  -8,  -1,   7,   1])"
      ]
     },
     "execution_count": 61,
     "metadata": {},
     "output_type": "execute_result"
    }
   ],
   "source": [
    "x = np.random.randint(-10,10,size = (1000,))\n",
    "x"
   ]
  },
  {
   "cell_type": "code",
   "execution_count": 63,
   "id": "8ffb576e-e858-4df3-ab61-bd8d21e8a1d0",
   "metadata": {},
   "outputs": [
    {
     "data": {
      "text/plain": [
       "array([  0,  49,  16,   9,   4,  25,  36,   1,   9,   9,  49,  81,  81,\n",
       "         0,   1,  81,  25,   4, 100,  81,   4,   1,  64,   9,  49,  36,\n",
       "        25,   1,   1,   1,   4,  81,   4,  49,  36,  64,   1,   0,  36,\n",
       "        36,   1,  16,   9,   1,  25,  25,  25,  81,   9,  16,  25,  49,\n",
       "         0,   9,  36,   1,   4,   4,  25,   0,  64, 100,   1,   4,  81,\n",
       "        49,   9,  16,  81,  16,  25,  81,  25,   9,  49,   9,   1,   4,\n",
       "         4,   1,  16,  16,   4,   1,   4,   9,  49,  81,  25,  64,   9,\n",
       "        49,  36,  64,   0,  49,  81,  64,  16,  25,  36,  49,  36,  81,\n",
       "         4, 100,  16,   9,   9,   0,  81,  49,  25,   1,  36,   1, 100,\n",
       "        49,  16,   1,  49,   1,  36,   0,   9,  81,  16, 100,  49,  49,\n",
       "        25,   9,  81,  36,  49,   0,  36,  25,  49,  49,   9,  81,   1,\n",
       "         4,   0,  81,  36,   4,  16,  81,  49,  16,   9,  25,  49,  81,\n",
       "        16,  64,   9,   1,  64,  25, 100,  36,   1, 100,  25,  16,  16,\n",
       "        36,  16,   9,  36,  64,  25,  81,  49,  16, 100,   1,   4,  81,\n",
       "        64,  16,   0,   4,  81,   4,  16,  16,  25,  16,  25,  64,   9,\n",
       "         4,   0,  36,   1,   1,   9,  81,  81,  36,  81,  49,  25,  16,\n",
       "         1,  81,  16, 100,  49,  16,  49,   9, 100,   1,   1,  49, 100,\n",
       "         0,  16,   0,  16,   4,  16,  25,  36,   9,  25,   4,   9,  81,\n",
       "         0,  36,  49,   4,  49,   0, 100,  16, 100,  49,  16, 100,   4,\n",
       "       100,   1,  49,   9,  81,  81,   1,   4,  16,   9,  64,  49,  16,\n",
       "        16,  64,  64,  36,  25,   9, 100,   9,   0,  36,  36,  36,  64,\n",
       "         1,   1,   1,  36,  81,   9,   4,  16,  36,   1,  36,  49,  64,\n",
       "         1,   4,  25,   4,   9,  25,  16,   4,  36,  25,  36,   9,  49,\n",
       "        16,  81,   4,   4,   9,  36,  64,   0,  36,   1,   0,  36,  64,\n",
       "        64,  64,   1,  64,  16,  36,  81,   4,  36,  36,  49,  25,  64,\n",
       "        81,  25,   4,  49,   0,  49,   4,  25,  81,  36,  25,  49,  36,\n",
       "        81,  81,  64,  64,  16,   4,  64,  36,   4, 100,  64,   9,   1,\n",
       "        49,   0,   4,  81,   0,  64,  64,   0,   1,  49,  36,  81, 100,\n",
       "        49, 100,  81,  49,   4,  16,  81,   1,  25,  16,   0,   4,  16,\n",
       "        64,  81,  16,   9, 100,  49,  64,   4,  81,  16,   9,  49,  36,\n",
       "         9,  49,  16,   1,   9, 100,  81,   9,   4,  36,   9,  36,  64,\n",
       "         4,   4,  25,  64,  25,   1,  25,   4,  81,   4,  25,   1,  81,\n",
       "        81,   4,   9,   1,  36,  16,  16,  36,   1,  49,   1,   1,  64,\n",
       "        16,  36,   0,  16,  16,  64,   0,  81,  16, 100,  81,  25,  81,\n",
       "        64,   4,   4,   9,  81,   9,   9,   9,   9,  25,  16,  49,  25,\n",
       "         9, 100,   1,   9,   4,  81,  81,  64,  25,   4,  25,  36,   9,\n",
       "        36,  49,  25,  36,   9,  81,  25,   9,   4,   4,  16,  25,  81,\n",
       "         1,  49,  64,  16,  81,   1,  36,  81,  16,   9, 100,  49,   9,\n",
       "        49, 100,  81,  64,  81,  64,  16,  25,   4,   4,  36,  49,  16,\n",
       "         1,   9,   4,   0,  64,  49,  49,   9,  81,  16,   9,  64,  36,\n",
       "        25,  81,  36,   9,  64,   9,  16,   1,  64,  49,   1,  16,  36,\n",
       "        25,  49,  36,   1,  64,  16, 100,  81,   1,  49,  36,  81,  81,\n",
       "         0,   1,   0,   9,  81, 100,   9,  64,  64,   4,  49,  64,  64,\n",
       "        64,  64,  81,  36,  36,   4,  81,  36,  25,  36,  16, 100,  81,\n",
       "        16,  64,  64,   1, 100,   4,  64,   1,  16,   4,  64,  49,   9,\n",
       "        25,   9,  16,   1,  36,  64,  81,  81,  36,  25,   1,  64,  36,\n",
       "        25,  81,  64,  16,   1, 100,  16,  81,   1,   0,   9,   1,  81,\n",
       "         4,  49,   1,  16,   1,  64, 100,   0,   0, 100,   0,  81,   9,\n",
       "         4, 100,  49,  16,   9,  16,  16,  49,  36,   0,  81,  25,  64,\n",
       "        36,  49,   9,   9,  25,  49,   9,  36,  16,   1,  36,  64,  81,\n",
       "        25,  25,  49,  64,  36,  36,   0,  36,  16,  49,   1,  36,   0,\n",
       "        81,   9,  81,   1,   1,   4,  25,   0,   1,  81,   9,  16,  36,\n",
       "        81,  25,  64,  64,   0, 100,   9,   9,   9,  25,   1,  25,  36,\n",
       "        49,  16,  25,  81,   1,  16,   4,  49,  25,  64,   1,  36,  16,\n",
       "         4,  16,   4,  81,  36,   4,  36, 100,   4,  49,  16,  25,  25,\n",
       "        16,  16,   9,  49,  49,   4,   1,  49, 100,  16,   4, 100,  81,\n",
       "        25,   4,  49,  16,  64,  81,   1,   1,  64, 100,  16,   9,  16,\n",
       "         1,   1,   4,   0,  49,   4,  36,   9,  16,  25,  16,  36,   9,\n",
       "        16,  25,  81,  36,  25,   4,  25,  64,   4,  81,   1,  49,   4,\n",
       "         9,  25,  64,   0, 100,   1, 100,  16,   1,   0,   0,  49,  36,\n",
       "        64,   9,  81,   4,   9,  36,  25,   1,  16,   9,  36,   4,   0,\n",
       "         4,  16,   1,  49,  64,  36,   1,   4,  81,   0,  49,   1,  16,\n",
       "         1,   1,   9,  36,  25,   1,  25,   9,  81,   0,  49,  25,   4,\n",
       "        36,  36,  25,  64,   4,  25,  81,   9,  49,   1,   9,  36,   9,\n",
       "         1,  25,  36,  81,   9,   1,   9,  64,   1,  16,   1,   9,   0,\n",
       "         4,   9, 100, 100,  64,   0,  16,  81,   4,  16,  25,  81,   0,\n",
       "        81,   1,  49,  36,  49,  36,  16,  16,  81,  36,  49,  49,  49,\n",
       "        49,   1,   9,  64,  25,  36,  25,  25,  81,  25,  81,  81, 100,\n",
       "        36,  36,  25,  81,   4,  49,  25,  81,  49,   9,  25,   9,  16,\n",
       "        16,  64,   0,  64,   1,  36,  81,  81,  64,   0,  64,  64,  49,\n",
       "       100,  81,  16,  36,  16,  64,  36,  49,   9,  16,   0, 100,   1,\n",
       "         0,  25,  64,  64,  36,  25,  81,  81,   1,   4,  25,  81,  64,\n",
       "         4,  49,  25,  49,   1,  64, 100,  36,  16,  16, 100,  36,   9,\n",
       "        81,   9,   9,   9,   1,   9,  49,  64,  81,  81,   1, 100,  16,\n",
       "         9,   1,   1,   0,   0,   1,   9,  16,  16,   9,  49,  36,  49,\n",
       "        16,   9,  81, 100,  81,   4,   4,  49,  25, 100,  25,   4,   4,\n",
       "        36,   0,   9,  81,   4,   0,  49,  16,  64,   1,  49,   1])"
      ]
     },
     "execution_count": 63,
     "metadata": {},
     "output_type": "execute_result"
    }
   ],
   "source": [
    "y = x**2 \n",
    "y"
   ]
  },
  {
   "cell_type": "code",
   "execution_count": 65,
   "id": "c8d008f5-7b27-4992-8ba4-092be0beba88",
   "metadata": {},
   "outputs": [],
   "source": [
    "lr = LinearRegression()"
   ]
  },
  {
   "cell_type": "code",
   "execution_count": 67,
   "id": "8ad5c599-c0c1-4bc4-905e-516a3d09022c",
   "metadata": {},
   "outputs": [],
   "source": [
    "from sklearn.metrics import r2_score"
   ]
  },
  {
   "cell_type": "code",
   "execution_count": 71,
   "id": "489a78e4-2944-4b77-a8cf-63c27f8bbea9",
   "metadata": {},
   "outputs": [
    {
     "data": {
      "text/plain": [
       "0.041928666228564726"
      ]
     },
     "execution_count": 71,
     "metadata": {},
     "output_type": "execute_result"
    }
   ],
   "source": [
    "lr.fit(x.reshape((1000,1)),y)\n",
    "r2_score(y,lr.predict(x.reshape((1000,1))))"
   ]
  },
  {
   "cell_type": "code",
   "execution_count": 75,
   "id": "ea35b863-53ba-46fb-a2ba-86c596c7dbac",
   "metadata": {},
   "outputs": [],
   "source": [
    "from sklearn.preprocessing import PolynomialFeatures"
   ]
  },
  {
   "cell_type": "code",
   "execution_count": 77,
   "id": "01de6d92-85da-485f-840b-8e660303c46e",
   "metadata": {},
   "outputs": [
    {
     "data": {
      "text/plain": [
       "1.0"
      ]
     },
     "execution_count": 77,
     "metadata": {},
     "output_type": "execute_result"
    }
   ],
   "source": [
    "p = PolynomialFeatures(degree = 2)\n",
    "x_p = p.fit_transform(x.reshape((1000,1)))\n",
    "lr.fit(x_p,y)\n",
    "r2_score(y,lr.predict(x_p))"
   ]
  },
  {
   "cell_type": "code",
   "execution_count": null,
   "id": "816096a1-0b09-43b5-8218-53ad82be4ff9",
   "metadata": {},
   "outputs": [],
   "source": []
  }
 ],
 "metadata": {
  "kernelspec": {
   "display_name": "Python 3 (ipykernel)",
   "language": "python",
   "name": "python3"
  },
  "language_info": {
   "codemirror_mode": {
    "name": "ipython",
    "version": 3
   },
   "file_extension": ".py",
   "mimetype": "text/x-python",
   "name": "python",
   "nbconvert_exporter": "python",
   "pygments_lexer": "ipython3",
   "version": "3.12.4"
  }
 },
 "nbformat": 4,
 "nbformat_minor": 5
}
